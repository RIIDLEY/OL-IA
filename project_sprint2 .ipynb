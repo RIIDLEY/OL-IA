{
  "cells": [
    {
      "cell_type": "code",
      "execution_count": 131,
      "id": "9e7aaaa8",
      "metadata": {
        "id": "9e7aaaa8"
      },
      "outputs": [],
      "source": [
        "#Étape 1. Importez les bibliothèques nécessaires, nous allons utiliser plus loin\n",
        "import urllib.request\n",
        "import os\n",
        "import pandas as pd\n",
        "import numpy as np\n",
        "from nltk.tokenize import RegexpTokenizer \n",
        "from nltk.stem.porter import PorterStemmer\n",
        "from nltk.corpus import stopwords\n",
        "from nltk.tokenize import word_tokenize"
      ]
    },
    {
      "cell_type": "code",
      "source": [
        "df = pd.read_table('datasets.txt', sep=';')\n",
        "df.head(3)"
      ],
      "metadata": {
        "colab": {
          "base_uri": "https://localhost:8080/",
          "height": 143
        },
        "id": "QPKTm0MIY0ZA",
        "outputId": "2e23d78d-5ed9-4938-8961-3d325c755ea6"
      },
      "id": "QPKTm0MIY0ZA",
      "execution_count": 161,
      "outputs": [
        {
          "output_type": "execute_result",
          "data": {
            "text/plain": [
              "                                            name  \\\n",
              "0              Leachco Snoogle Total Body Pillow   \n",
              "1    Baby Trend Flex Loc Infant Car Seat, Elixer   \n",
              "2  Sunshine Kids Mighty Tite Seat Belt Tightener   \n",
              "\n",
              "                                              review sentiment  \n",
              "0  I am really enjoying the snoogle.  It has help...  positive  \n",
              "1  For our second child we bought this car seat (...  negative  \n",
              "2  If you sort these reviews by the star rating y...  positive  "
            ],
            "text/html": [
              "\n",
              "  <div id=\"df-f75f77ec-80ad-4d84-b639-c40ffeef42e5\">\n",
              "    <div class=\"colab-df-container\">\n",
              "      <div>\n",
              "<style scoped>\n",
              "    .dataframe tbody tr th:only-of-type {\n",
              "        vertical-align: middle;\n",
              "    }\n",
              "\n",
              "    .dataframe tbody tr th {\n",
              "        vertical-align: top;\n",
              "    }\n",
              "\n",
              "    .dataframe thead th {\n",
              "        text-align: right;\n",
              "    }\n",
              "</style>\n",
              "<table border=\"1\" class=\"dataframe\">\n",
              "  <thead>\n",
              "    <tr style=\"text-align: right;\">\n",
              "      <th></th>\n",
              "      <th>name</th>\n",
              "      <th>review</th>\n",
              "      <th>sentiment</th>\n",
              "    </tr>\n",
              "  </thead>\n",
              "  <tbody>\n",
              "    <tr>\n",
              "      <th>0</th>\n",
              "      <td>Leachco Snoogle Total Body Pillow</td>\n",
              "      <td>I am really enjoying the snoogle.  It has help...</td>\n",
              "      <td>positive</td>\n",
              "    </tr>\n",
              "    <tr>\n",
              "      <th>1</th>\n",
              "      <td>Baby Trend Flex Loc Infant Car Seat, Elixer</td>\n",
              "      <td>For our second child we bought this car seat (...</td>\n",
              "      <td>negative</td>\n",
              "    </tr>\n",
              "    <tr>\n",
              "      <th>2</th>\n",
              "      <td>Sunshine Kids Mighty Tite Seat Belt Tightener</td>\n",
              "      <td>If you sort these reviews by the star rating y...</td>\n",
              "      <td>positive</td>\n",
              "    </tr>\n",
              "  </tbody>\n",
              "</table>\n",
              "</div>\n",
              "      <button class=\"colab-df-convert\" onclick=\"convertToInteractive('df-f75f77ec-80ad-4d84-b639-c40ffeef42e5')\"\n",
              "              title=\"Convert this dataframe to an interactive table.\"\n",
              "              style=\"display:none;\">\n",
              "        \n",
              "  <svg xmlns=\"http://www.w3.org/2000/svg\" height=\"24px\"viewBox=\"0 0 24 24\"\n",
              "       width=\"24px\">\n",
              "    <path d=\"M0 0h24v24H0V0z\" fill=\"none\"/>\n",
              "    <path d=\"M18.56 5.44l.94 2.06.94-2.06 2.06-.94-2.06-.94-.94-2.06-.94 2.06-2.06.94zm-11 1L8.5 8.5l.94-2.06 2.06-.94-2.06-.94L8.5 2.5l-.94 2.06-2.06.94zm10 10l.94 2.06.94-2.06 2.06-.94-2.06-.94-.94-2.06-.94 2.06-2.06.94z\"/><path d=\"M17.41 7.96l-1.37-1.37c-.4-.4-.92-.59-1.43-.59-.52 0-1.04.2-1.43.59L10.3 9.45l-7.72 7.72c-.78.78-.78 2.05 0 2.83L4 21.41c.39.39.9.59 1.41.59.51 0 1.02-.2 1.41-.59l7.78-7.78 2.81-2.81c.8-.78.8-2.07 0-2.86zM5.41 20L4 18.59l7.72-7.72 1.47 1.35L5.41 20z\"/>\n",
              "  </svg>\n",
              "      </button>\n",
              "      \n",
              "  <style>\n",
              "    .colab-df-container {\n",
              "      display:flex;\n",
              "      flex-wrap:wrap;\n",
              "      gap: 12px;\n",
              "    }\n",
              "\n",
              "    .colab-df-convert {\n",
              "      background-color: #E8F0FE;\n",
              "      border: none;\n",
              "      border-radius: 50%;\n",
              "      cursor: pointer;\n",
              "      display: none;\n",
              "      fill: #1967D2;\n",
              "      height: 32px;\n",
              "      padding: 0 0 0 0;\n",
              "      width: 32px;\n",
              "    }\n",
              "\n",
              "    .colab-df-convert:hover {\n",
              "      background-color: #E2EBFA;\n",
              "      box-shadow: 0px 1px 2px rgba(60, 64, 67, 0.3), 0px 1px 3px 1px rgba(60, 64, 67, 0.15);\n",
              "      fill: #174EA6;\n",
              "    }\n",
              "\n",
              "    [theme=dark] .colab-df-convert {\n",
              "      background-color: #3B4455;\n",
              "      fill: #D2E3FC;\n",
              "    }\n",
              "\n",
              "    [theme=dark] .colab-df-convert:hover {\n",
              "      background-color: #434B5C;\n",
              "      box-shadow: 0px 1px 3px 1px rgba(0, 0, 0, 0.15);\n",
              "      filter: drop-shadow(0px 1px 2px rgba(0, 0, 0, 0.3));\n",
              "      fill: #FFFFFF;\n",
              "    }\n",
              "  </style>\n",
              "\n",
              "      <script>\n",
              "        const buttonEl =\n",
              "          document.querySelector('#df-f75f77ec-80ad-4d84-b639-c40ffeef42e5 button.colab-df-convert');\n",
              "        buttonEl.style.display =\n",
              "          google.colab.kernel.accessAllowed ? 'block' : 'none';\n",
              "\n",
              "        async function convertToInteractive(key) {\n",
              "          const element = document.querySelector('#df-f75f77ec-80ad-4d84-b639-c40ffeef42e5');\n",
              "          const dataTable =\n",
              "            await google.colab.kernel.invokeFunction('convertToInteractive',\n",
              "                                                     [key], {});\n",
              "          if (!dataTable) return;\n",
              "\n",
              "          const docLinkHtml = 'Like what you see? Visit the ' +\n",
              "            '<a target=\"_blank\" href=https://colab.research.google.com/notebooks/data_table.ipynb>data table notebook</a>'\n",
              "            + ' to learn more about interactive tables.';\n",
              "          element.innerHTML = '';\n",
              "          dataTable['output_type'] = 'display_data';\n",
              "          await google.colab.output.renderOutput(dataTable, element);\n",
              "          const docLink = document.createElement('div');\n",
              "          docLink.innerHTML = docLinkHtml;\n",
              "          element.appendChild(docLink);\n",
              "        }\n",
              "      </script>\n",
              "    </div>\n",
              "  </div>\n",
              "  "
            ]
          },
          "metadata": {},
          "execution_count": 161
        }
      ]
    },
    {
      "cell_type": "code",
      "execution_count": 162,
      "id": "279b0780",
      "metadata": {
        "colab": {
          "base_uri": "https://localhost:8080/"
        },
        "id": "279b0780",
        "outputId": "98e7fe0c-9fde-4c4d-f5ec-d6575808d1f2"
      },
      "outputs": [
        {
          "output_type": "execute_result",
          "data": {
            "text/plain": [
              "name         0\n",
              "review       0\n",
              "sentiment    0\n",
              "dtype: int64"
            ]
          },
          "metadata": {},
          "execution_count": 162
        }
      ],
      "source": [
        "#Étape 3. Nettoyer les données textuelles\n",
        "df.isnull().sum()\n"
      ]
    },
    {
      "cell_type": "code",
      "execution_count": 163,
      "id": "4c692abe",
      "metadata": {
        "colab": {
          "base_uri": "https://localhost:8080/"
        },
        "id": "4c692abe",
        "outputId": "89524e84-523f-4181-907a-20c478952c4b"
      },
      "outputs": [
        {
          "output_type": "execute_result",
          "data": {
            "text/plain": [
              "14167"
            ]
          },
          "metadata": {},
          "execution_count": 163
        }
      ],
      "source": [
        "#supprimer les valeurs null\n",
        "df = df.dropna()\n",
        "df.isnull().sum()\n",
        "len(df)"
      ]
    },
    {
      "cell_type": "code",
      "source": [
        "df.to_csv(r'datasets.txt', header=None, index=None, sep=';', mode='a')"
      ],
      "metadata": {
        "id": "JtHSzREnfqdg"
      },
      "id": "JtHSzREnfqdg",
      "execution_count": 140,
      "outputs": []
    },
    {
      "cell_type": "code",
      "execution_count": 164,
      "id": "de781fc3",
      "metadata": {
        "colab": {
          "base_uri": "https://localhost:8080/"
        },
        "id": "de781fc3",
        "outputId": "39fe6611-469d-4de7-8bae-23ed416834d9"
      },
      "outputs": [
        {
          "output_type": "stream",
          "name": "stdout",
          "text": [
            "[nltk_data] Downloading package brown to /root/nltk_data...\n",
            "[nltk_data]   Package brown is already up-to-date!\n",
            "[nltk_data] Downloading package stopwords to /root/nltk_data...\n",
            "[nltk_data]   Package stopwords is already up-to-date!\n"
          ]
        },
        {
          "output_type": "execute_result",
          "data": {
            "text/plain": [
              "True"
            ]
          },
          "metadata": {},
          "execution_count": 164
        }
      ],
      "source": [
        "#installer nltk \n",
        "import nltk\n",
        "nltk.download('brown')\n",
        "nltk.download('stopwords')"
      ]
    },
    {
      "cell_type": "code",
      "execution_count": 165,
      "id": "a3b131d0",
      "metadata": {
        "colab": {
          "base_uri": "https://localhost:8080/"
        },
        "id": "a3b131d0",
        "outputId": "5aa94bee-7a6f-4498-94d1-94e91bc0d498"
      },
      "outputs": [
        {
          "output_type": "execute_result",
          "data": {
            "text/plain": [
              "['The', 'Fulton', 'County', 'Grand', 'Jury', 'said', ...]"
            ]
          },
          "metadata": {},
          "execution_count": 165
        }
      ],
      "source": [
        "#tester nltk \n",
        "from nltk.corpus import brown\n",
        "brown.words()"
      ]
    },
    {
      "cell_type": "code",
      "execution_count": 166,
      "id": "681238c0",
      "metadata": {
        "id": "681238c0"
      },
      "outputs": [],
      "source": [
        "# init Objects\n",
        "tokenizer = RegexpTokenizer(r'\\w+')\n",
        "en_stopwords=set(stopwords.words('english'))\n",
        "ps=PorterStemmer()\n",
        "def getStemmedReview(review):\n",
        "    review=review.lower()\n",
        "    review=review.replace(\"<br /><br />\",\" \")\n",
        "    #Tokenize\n",
        "    tokens=tokenizer.tokenize(review)\n",
        "    new_tokens=[token for token in tokens if token not in  en_stopwords]\n",
        "    stemmed_tokens=[ps.stem(token) for token in new_tokens]\n",
        "    clean_review=' '.join(stemmed_tokens)\n",
        "    return clean_review"
      ]
    },
    {
      "cell_type": "code",
      "source": [
        "len(df.loc[10000:, 'review'].values)"
      ],
      "metadata": {
        "colab": {
          "base_uri": "https://localhost:8080/"
        },
        "id": "UncqcwELb2n1",
        "outputId": "a9a8cda7-52c3-45df-93bd-e5768c8b44f2"
      },
      "id": "UncqcwELb2n1",
      "execution_count": 178,
      "outputs": [
        {
          "output_type": "execute_result",
          "data": {
            "text/plain": [
              "4167"
            ]
          },
          "metadata": {},
          "execution_count": 178
        }
      ]
    },
    {
      "cell_type": "code",
      "execution_count": 181,
      "id": "3b39f4a7",
      "metadata": {
        "id": "3b39f4a7"
      },
      "outputs": [],
      "source": [
        "#Étape 4. Nettoyer toutes les revues et diviser nos données pour la formation et les tests.\n",
        "df['review'].apply(getStemmedReview)\n",
        "X_train = df.loc[:10000, 'review'].values\n",
        "y_train = df.loc[:10000, 'sentiment'].values\n",
        "X_test = df.loc[10001:, 'review'].values\n",
        "y_test = df.loc[10001:, 'sentiment'].values"
      ]
    },
    {
      "cell_type": "code",
      "execution_count": null,
      "id": "0aca3fbd",
      "metadata": {
        "id": "0aca3fbd"
      },
      "outputs": [],
      "source": [
        "#installer : pip3 install -U scikit-learn scipy matplotlib ou pip install -U scikit-learn scipy matplotlib"
      ]
    },
    {
      "cell_type": "code",
      "execution_count": 182,
      "id": "192400cf",
      "metadata": {
        "id": "192400cf"
      },
      "outputs": [],
      "source": [
        "#Étape 5. Transformer des mots en vecteurs de caractéristiques\n",
        "from sklearn.feature_extraction.text import TfidfVectorizer\n",
        "vectorizer = TfidfVectorizer(sublinear_tf=True, encoding='utf-8',\n",
        " decode_error='ignore')\n",
        "vectorizer.fit(X_train)\n",
        "X_train=vectorizer.transform(X_train)\n",
        "X_test=vectorizer.transform(X_test)"
      ]
    },
    {
      "cell_type": "code",
      "execution_count": 183,
      "id": "92f7c662",
      "metadata": {
        "colab": {
          "base_uri": "https://localhost:8080/"
        },
        "id": "92f7c662",
        "outputId": "5ca9bc87-1d1a-48c2-fc37-eda5be082189"
      },
      "outputs": [
        {
          "output_type": "stream",
          "name": "stdout",
          "text": [
            "Score on training data is: 0.9292070792920708\n",
            "Score on testing data is: 0.8900624099855977\n"
          ]
        }
      ],
      "source": [
        "#Étape 6. Création du modèle et vérification du score sur les données d'entraînement et de test\n",
        "from sklearn.linear_model import LogisticRegression\n",
        "\n",
        "model=LogisticRegression(solver='liblinear')\n",
        "model.fit(X_train,y_train)\n",
        "\n",
        "print(\"Score on training data is: \"+str(model.score(X_train,y_train)))\n",
        "print(\"Score on testing data is: \"+str(model.score(X_test,y_test)))"
      ]
    },
    {
      "cell_type": "code",
      "execution_count": 185,
      "id": "393b62e2",
      "metadata": {
        "id": "393b62e2"
      },
      "outputs": [],
      "source": [
        "# tester sur une nouvelle valeur \n",
        "val = [\"While the diaper pins are attractive, the metal in the pins I received are flimsy and did not hold up to the thick fabric I used them on. Fortunately there was no baby involved\"]"
      ]
    },
    {
      "cell_type": "code",
      "execution_count": 186,
      "id": "4bf8beb2",
      "metadata": {
        "id": "4bf8beb2"
      },
      "outputs": [],
      "source": [
        "val =vectorizer.transform(val)"
      ]
    },
    {
      "cell_type": "code",
      "execution_count": 187,
      "id": "8a5ff4ed",
      "metadata": {
        "colab": {
          "base_uri": "https://localhost:8080/"
        },
        "id": "8a5ff4ed",
        "outputId": "48ef6056-b33b-4145-dc36-4dcd900cda99"
      },
      "outputs": [
        {
          "output_type": "execute_result",
          "data": {
            "text/plain": [
              "array(['negative'], dtype=object)"
            ]
          },
          "metadata": {},
          "execution_count": 187
        }
      ],
      "source": [
        "model.predict(val)"
      ]
    },
    {
      "cell_type": "code",
      "source": [
        "val = [\"I not miss this book\"]\n",
        "val = vectorizer.transform(val)\n",
        "model.predict(val)"
      ],
      "metadata": {
        "colab": {
          "base_uri": "https://localhost:8080/"
        },
        "id": "9819fFQuNhPr",
        "outputId": "8563e8a8-e4e2-401c-e54b-4f2c648302ef"
      },
      "id": "9819fFQuNhPr",
      "execution_count": 188,
      "outputs": [
        {
          "output_type": "execute_result",
          "data": {
            "text/plain": [
              "array(['negative'], dtype=object)"
            ]
          },
          "metadata": {},
          "execution_count": 188
        }
      ]
    },
    {
      "cell_type": "code",
      "execution_count": 189,
      "id": "64e01cfb",
      "metadata": {
        "colab": {
          "base_uri": "https://localhost:8080/"
        },
        "id": "64e01cfb",
        "outputId": "04e9acf0-11a8-4efa-b18c-e82af2c7a47d"
      },
      "outputs": [
        {
          "output_type": "execute_result",
          "data": {
            "text/plain": [
              "array([[0.65704591, 0.34295409]])"
            ]
          },
          "metadata": {},
          "execution_count": 189
        }
      ],
      "source": [
        "model.predict_proba(val)"
      ]
    },
    {
      "cell_type": "code",
      "source": [
        ""
      ],
      "metadata": {
        "id": "nesFPM3YxsqZ"
      },
      "id": "nesFPM3YxsqZ",
      "execution_count": null,
      "outputs": []
    },
    {
      "cell_type": "code",
      "source": [
        ""
      ],
      "metadata": {
        "id": "4TNYz9Kd2iGp"
      },
      "id": "4TNYz9Kd2iGp",
      "execution_count": null,
      "outputs": []
    },
    {
      "cell_type": "markdown",
      "source": [
        "**Deuxièmes modèles**\n"
      ],
      "metadata": {
        "id": "IdruyGCWWq-b"
      },
      "id": "IdruyGCWWq-b"
    },
    {
      "cell_type": "code",
      "source": [
        "from sklearn.feature_extraction.text import CountVectorizer\n",
        "from sklearn.linear_model import LogisticRegression\n",
        "from sklearn.model_selection import train_test_split\n",
        "from sklearn.metrics import accuracy_score\n",
        "from sklearn.naive_bayes import MultinomialNB"
      ],
      "metadata": {
        "id": "4xxbfrmDdV0V"
      },
      "id": "4xxbfrmDdV0V",
      "execution_count": 190,
      "outputs": []
    },
    {
      "cell_type": "code",
      "source": [
        "x=df['review']\n",
        "y=df['sentiment']\n",
        "X_train,X_test,y_train,y_test=train_test_split(x,y)"
      ],
      "metadata": {
        "id": "AA4lWZStja01"
      },
      "id": "AA4lWZStja01",
      "execution_count": 191,
      "outputs": []
    },
    {
      "cell_type": "code",
      "source": [
        "vect= CountVectorizer()\n",
        "X_train = vect.fit_transform(X_train)\n",
        "X_test = vect.transform(X_test)"
      ],
      "metadata": {
        "id": "O4KwX5bimMTV"
      },
      "id": "O4KwX5bimMTV",
      "execution_count": 192,
      "outputs": []
    },
    {
      "cell_type": "code",
      "source": [
        "model = LogisticRegression(max_iter=1000)\n",
        "model.fit(X_train,y_train)"
      ],
      "metadata": {
        "id": "PxpAqTDuv8Cu",
        "colab": {
          "base_uri": "https://localhost:8080/"
        },
        "outputId": "e10b3441-ecea-460a-9bbf-10df8d78fbd1"
      },
      "id": "PxpAqTDuv8Cu",
      "execution_count": 193,
      "outputs": [
        {
          "output_type": "execute_result",
          "data": {
            "text/plain": [
              "LogisticRegression(max_iter=1000)"
            ]
          },
          "metadata": {},
          "execution_count": 193
        }
      ]
    },
    {
      "cell_type": "code",
      "source": [
        "accuracy_score(model.predict(X_test),y_test)"
      ],
      "metadata": {
        "id": "JlybVDyjjPJN",
        "colab": {
          "base_uri": "https://localhost:8080/"
        },
        "outputId": "4fcfd875-e484-4f59-85f8-3d964ef42f25"
      },
      "id": "JlybVDyjjPJN",
      "execution_count": 194,
      "outputs": [
        {
          "output_type": "execute_result",
          "data": {
            "text/plain": [
              "0.8780350084697911"
            ]
          },
          "metadata": {},
          "execution_count": 194
        }
      ]
    },
    {
      "cell_type": "code",
      "source": [
        "nb = MultinomialNB()\n",
        "nb.fit(X_train,y_train)"
      ],
      "metadata": {
        "id": "hAGRBGyDWpcB",
        "colab": {
          "base_uri": "https://localhost:8080/"
        },
        "outputId": "b6efb7fb-2ca2-4913-8384-b3ca17dbeeae"
      },
      "id": "hAGRBGyDWpcB",
      "execution_count": 195,
      "outputs": [
        {
          "output_type": "execute_result",
          "data": {
            "text/plain": [
              "MultinomialNB()"
            ]
          },
          "metadata": {},
          "execution_count": 195
        }
      ]
    },
    {
      "cell_type": "code",
      "source": [
        "accuracy_score(nb.predict(X_test),y_test)"
      ],
      "metadata": {
        "id": "y3Tz8XJfdEwl",
        "colab": {
          "base_uri": "https://localhost:8080/"
        },
        "outputId": "32b4d0b6-08b3-49e2-8e0d-8fc9d01131b7"
      },
      "id": "y3Tz8XJfdEwl",
      "execution_count": 196,
      "outputs": [
        {
          "output_type": "execute_result",
          "data": {
            "text/plain": [
              "0.8537549407114624"
            ]
          },
          "metadata": {},
          "execution_count": 196
        }
      ]
    },
    {
      "cell_type": "code",
      "source": [
        ""
      ],
      "metadata": {
        "id": "L0FX-uNNiaW4"
      },
      "id": "L0FX-uNNiaW4",
      "execution_count": null,
      "outputs": []
    },
    {
      "cell_type": "code",
      "source": [
        ""
      ],
      "metadata": {
        "id": "VcXPGWZ2ipUM"
      },
      "id": "VcXPGWZ2ipUM",
      "execution_count": null,
      "outputs": []
    },
    {
      "cell_type": "code",
      "source": [
        ""
      ],
      "metadata": {
        "id": "UtPzbigWi4pd"
      },
      "id": "UtPzbigWi4pd",
      "execution_count": null,
      "outputs": []
    },
    {
      "cell_type": "code",
      "source": [
        "\n"
      ],
      "metadata": {
        "id": "cFmj2oNYX1KD"
      },
      "id": "cFmj2oNYX1KD",
      "execution_count": null,
      "outputs": []
    },
    {
      "cell_type": "code",
      "source": [
        ""
      ],
      "metadata": {
        "id": "-eXc7NKsbxA5"
      },
      "id": "-eXc7NKsbxA5",
      "execution_count": null,
      "outputs": []
    },
    {
      "cell_type": "code",
      "source": [
        ""
      ],
      "metadata": {
        "id": "WaGByfimaUwq"
      },
      "id": "WaGByfimaUwq",
      "execution_count": null,
      "outputs": []
    },
    {
      "cell_type": "code",
      "source": [
        ""
      ],
      "metadata": {
        "id": "aKvYsV0BX0f3"
      },
      "id": "aKvYsV0BX0f3",
      "execution_count": null,
      "outputs": []
    }
  ],
  "metadata": {
    "kernelspec": {
      "display_name": "Python 3 (ipykernel)",
      "language": "python",
      "name": "python3"
    },
    "language_info": {
      "codemirror_mode": {
        "name": "ipython",
        "version": 3
      },
      "file_extension": ".py",
      "mimetype": "text/x-python",
      "name": "python",
      "nbconvert_exporter": "python",
      "pygments_lexer": "ipython3",
      "version": "3.5.4"
    },
    "colab": {
      "name": "project_sprint2.ipynb",
      "provenance": []
    }
  },
  "nbformat": 4,
  "nbformat_minor": 5
}